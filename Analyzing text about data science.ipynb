{
 "cells": [
  {
   "cell_type": "markdown",
   "id": "bf84d483",
   "metadata": {},
   "source": [
    "In this project im going to do *text mining* extracting keywords about Data science from a text and show the results."
   ]
  },
  {
   "cell_type": "code",
   "execution_count": null,
   "id": "0f6368bd",
   "metadata": {},
   "outputs": [],
   "source": [
    "url= 'https://en.wikipedia.org/wiki/Data_science'"
   ]
  },
  {
   "cell_type": "markdown",
   "id": "15dbe6b3",
   "metadata": {},
   "source": [
    "## First step: getting the data"
   ]
  },
  {
   "cell_type": "code",
   "execution_count": 9,
   "id": "bc80e639",
   "metadata": {},
   "outputs": [
    {
     "name": "stdout",
     "output_type": "stream",
     "text": [
      "<!DOCTYPE html>\n",
      "<html class=\"client-nojs vector-feature-language-in-header-enabled vector-feature-language-in-main-page-header-disabled vector-feature-sticky-header-disabled vector-feature-page-tools-pinned-disabled vector-feature-toc-pinned-clientpref-1 vector-feature-main-menu-pinned-disabled vector-feature-limited-width-clientpref-1 vector-feature-limited-width-content-enabled vector-feature-zebra-design-disabled vector-feature-custom-font-size-clientpref-0 vector-feature-client-preferences-disabled vector-feature-typography-survey-disabled vector-toc-available\" lang=\"en\" dir=\"ltr\">\n",
      "<head>\n",
      "<meta charset=\"UTF-8\">\n",
      "<title>Data science - Wikipedia</title>\n",
      "<script>(function(){var className=\"client-js vector-feature-language-in-header-enabled vector-feature-language-in-main-page-header-disabled vector-feature-sticky-header-disabled vector-feature-page-tools-pinned-disabled vector-feature-toc-pinned-clientpref-1 vector-feature-main-menu-pinned-disabled vector-feature-limited-width-clientpr\n"
     ]
    }
   ],
   "source": [
    "import requests\n",
    "text= requests.get(url).content.decode('utf-8')\n",
    "print(text[:1000])"
   ]
  },
  {
   "cell_type": "markdown",
   "id": "7d734657",
   "metadata": {},
   "source": [
    "## Second step: transforming the data."
   ]
  },
  {
   "cell_type": "code",
   "execution_count": null,
   "id": "be6d052f",
   "metadata": {},
   "outputs": [],
   "source": []
  },
  {
   "cell_type": "code",
   "execution_count": null,
   "id": "e8734ec6",
   "metadata": {},
   "outputs": [],
   "source": []
  }
 ],
 "metadata": {
  "kernelspec": {
   "display_name": "Python 3 (ipykernel)",
   "language": "python",
   "name": "python3"
  },
  "language_info": {
   "codemirror_mode": {
    "name": "ipython",
    "version": 3
   },
   "file_extension": ".py",
   "mimetype": "text/x-python",
   "name": "python",
   "nbconvert_exporter": "python",
   "pygments_lexer": "ipython3",
   "version": "3.11.5"
  }
 },
 "nbformat": 4,
 "nbformat_minor": 5
}
